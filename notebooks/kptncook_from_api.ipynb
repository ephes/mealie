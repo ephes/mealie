{
 "cells": [
  {
   "cell_type": "code",
   "execution_count": 1,
   "metadata": {},
   "outputs": [],
   "source": [
    "import requests\n",
    "\n",
    "from time import time"
   ]
  },
  {
   "cell_type": "markdown",
   "metadata": {},
   "source": [
    "# Get Data From API"
   ]
  },
  {
   "cell_type": "code",
   "execution_count": 2,
   "metadata": {},
   "outputs": [],
   "source": [
    "api_key = \"6q7QNKy-oIgk-IMuWisJ-jfN7s6\"\n",
    "time_str = str(time())\n",
    "url = f\"https://mobile.kptncook.com/recipes/de/{time_str}?kptnkey={api_key}\""
   ]
  },
  {
   "cell_type": "code",
   "execution_count": 3,
   "metadata": {},
   "outputs": [],
   "source": [
    "r = requests.get(url)\n",
    "r.raise_for_status()"
   ]
  },
  {
   "cell_type": "code",
   "execution_count": 4,
   "metadata": {},
   "outputs": [],
   "source": [
    "recipes = r.json()"
   ]
  },
  {
   "cell_type": "markdown",
   "metadata": {},
   "source": [
    "# Turn API Data into Recipe"
   ]
  },
  {
   "cell_type": "code",
   "execution_count": 5,
   "metadata": {},
   "outputs": [],
   "source": [
    "from typing import Optional, List\n",
    "\n",
    "from pydantic import BaseModel\n",
    "from fastapi_camelcase import CamelModel\n",
    "\n",
    "from mealie.schema.recipe.recipe import Recipe\n",
    "from mealie.schema.recipe.recipe_step import RecipeStep\n",
    "from mealie.schema.recipe.recipe_notes import RecipeNote\n",
    "from mealie.schema.recipe.recipe_nutrition import Nutrition\n",
    "from mealie.schema.recipe.recipe_ingredient import RecipeIngredient"
   ]
  },
  {
   "cell_type": "code",
   "execution_count": 6,
   "metadata": {},
   "outputs": [],
   "source": [
    "class LocalizedString(BaseModel):\n",
    "    en: Optional[str]\n",
    "    de: Optional[str]\n",
    "    es: Optional[str]\n",
    "    fr: Optional[str]\n",
    "    pt: Optional[str]\n",
    "\n",
    "\n",
    "class KCNutrition(BaseModel):\n",
    "    calories: int\n",
    "    protein: int\n",
    "    fat: int\n",
    "    carbohydrate: int\n",
    "\n",
    "\n",
    "class KCImage(BaseModel):\n",
    "    name: str\n",
    "    type: Optional[str]\n",
    "    url: str\n",
    "\n",
    "\n",
    "class KptnCook(CamelModel):\n",
    "    localized_title: LocalizedString\n",
    "    country: str\n",
    "    author_comment: LocalizedString\n",
    "    preparation_time: int\n",
    "    cooking_time: int\n",
    "    recipe_nutrition: KCNutrition\n",
    "    steps_en: List[str]\n",
    "    steps_de: List[str]\n",
    "    image_list: List[KCImage]\n",
    "    \n",
    "    def get_image_url(self, api_key):\n",
    "        [image] = [i for i in self.image_list if i.type == \"cover\"]\n",
    "        image_url = f\"{image.url}?kptnkey={api_key}\"\n",
    "        return image_url\n",
    "    \n",
    "\n",
    "def transform_keys(raw):\n",
    "    result = {}\n",
    "    mapping = {\"stepsEN\": \"steps_en\", \"stepsDE\": \"steps_de\"}\n",
    "    for k, v in raw.items():\n",
    "        result[mapping.get(k, k)] = raw[k]\n",
    "    return result"
   ]
  },
  {
   "cell_type": "code",
   "execution_count": 7,
   "metadata": {},
   "outputs": [],
   "source": [
    "def transform_keys(raw):\n",
    "    result = {}\n",
    "    mapping = {\"stepsEN\": \"steps_en\", \"stepsDE\": \"steps_de\"}\n",
    "    for k, v in raw.items():\n",
    "        result[mapping.get(k, k)] = raw[k]\n",
    "    return result\n",
    "\n",
    "\n",
    "#recipes[0]\n",
    "parsed = KptnCook(**transform_keys(recipes[0]))"
   ]
  },
  {
   "cell_type": "code",
   "execution_count": 8,
   "metadata": {},
   "outputs": [
    {
     "data": {
      "text/plain": [
       "'https://d2am1qai33sroc.cloudfront.net/image/0ec0a91e-c516-45f4-ab0b-a2fea1fdac2f?kptnkey=6q7QNKy-oIgk-IMuWisJ-jfN7s6'"
      ]
     },
     "execution_count": 8,
     "metadata": {},
     "output_type": "execute_result"
    }
   ],
   "source": [
    "parsed.get_image_url(api_key)"
   ]
  },
  {
   "cell_type": "code",
   "execution_count": 9,
   "metadata": {},
   "outputs": [],
   "source": [
    "raw = recipes[0]"
   ]
  },
  {
   "cell_type": "code",
   "execution_count": 10,
   "metadata": {},
   "outputs": [
    {
     "data": {
      "text/plain": [
       "['_id',\n",
       " 'localizedTitle',\n",
       " 'rtype',\n",
       " 'authorComment',\n",
       " 'country',\n",
       " 'preparationTime',\n",
       " 'cookingTime',\n",
       " 'recipeNutrition',\n",
       " 'stepsEN',\n",
       " 'stepsDE',\n",
       " 'authors',\n",
       " 'retailers',\n",
       " 'ingredients',\n",
       " 'imageList',\n",
       " 'localizedPublishDate',\n",
       " 'creationDate',\n",
       " 'updateDate']"
      ]
     },
     "execution_count": 10,
     "metadata": {},
     "output_type": "execute_result"
    }
   ],
   "source": [
    "list(raw.keys())"
   ]
  },
  {
   "cell_type": "code",
   "execution_count": 29,
   "metadata": {},
   "outputs": [
    {
     "data": {
      "text/plain": [
       "[{'name': 'REZ_1631_Cover.jpg',\n",
       "  'url': 'https://d2am1qai33sroc.cloudfront.net/image/0ec0a91e-c516-45f4-ab0b-a2fea1fdac2f',\n",
       "  'type': 'cover'},\n",
       " {'name': 'REZ_1631_Fav.jpg',\n",
       "  'url': 'https://d2am1qai33sroc.cloudfront.net/image/067b95ba-b81e-4067-b65c-235031d650f0',\n",
       "  'type': 'favorite'},\n",
       " {'name': 'REZ_1631_01.jpg',\n",
       "  'url': 'https://d2am1qai33sroc.cloudfront.net/image/55b6c169-3960-420b-9b67-70cb9229b22a',\n",
       "  'type': 'step'},\n",
       " {'name': 'REZ_1631_02.jpg',\n",
       "  'url': 'https://d2am1qai33sroc.cloudfront.net/image/619e1bf24300008402e010da'},\n",
       " {'name': 'REZ_1631_03.jpg',\n",
       "  'url': 'https://d2am1qai33sroc.cloudfront.net/image/61adf939430000320078026b'},\n",
       " {'name': 'REZ_1631_04.jpg',\n",
       "  'url': 'https://d2am1qai33sroc.cloudfront.net/image/61a0d5254600001b08a6d420'},\n",
       " {'name': 'REZ_1631_05.jpg',\n",
       "  'url': 'https://d2am1qai33sroc.cloudfront.net/image/fd6c2729-5681-4750-b57a-fd807538e022',\n",
       "  'type': 'step'},\n",
       " {'name': 'REZ_1631_06.jpg',\n",
       "  'url': 'https://d2am1qai33sroc.cloudfront.net/image/8a868119-a342-44a5-818c-77d59f1890e7',\n",
       "  'type': 'step'},\n",
       " {'name': 'REZ_1631_07.jpg',\n",
       "  'url': 'https://d2am1qai33sroc.cloudfront.net/image/86e37bdc-237d-401e-9735-b70005c6edaf',\n",
       "  'type': 'step'},\n",
       " {'name': 'REZ_1631_08.jpg',\n",
       "  'url': 'https://d2am1qai33sroc.cloudfront.net/image/618e93c94c0000210302d5e0'},\n",
       " {'name': 'REZ_1631_09.jpeg',\n",
       "  'url': 'https://d2am1qai33sroc.cloudfront.net/image/60c369634300004b1aba3781'},\n",
       " {'name': 'REZ_1631_10.jpg',\n",
       "  'url': 'https://d2am1qai33sroc.cloudfront.net/image/607692b76c00006700f1830e'},\n",
       " {'name': 'REZ_1631_11.jpg',\n",
       "  'url': 'https://d2am1qai33sroc.cloudfront.net/image/0b6f49e3-eaae-427c-9c21-6bbea7b9297b',\n",
       "  'type': 'step'},\n",
       " {'name': 'REZ_1631_12.jpg',\n",
       "  'url': 'https://d2am1qai33sroc.cloudfront.net/image/bc756f78-621d-4e08-8f54-2282824cae6b',\n",
       "  'type': 'step'},\n",
       " {'name': 'REZ_1631_13.jpg',\n",
       "  'url': 'https://d2am1qai33sroc.cloudfront.net/image/b4646dff-bd04-4c34-99f8-b3ba8accef7e',\n",
       "  'type': 'step'},\n",
       " {'name': 'REZ_1631_14.jpg',\n",
       "  'url': 'https://d2am1qai33sroc.cloudfront.net/image/66d0059f-04a2-436b-9470-4afe20b7e5bf',\n",
       "  'type': 'blurred'}]"
      ]
     },
     "execution_count": 29,
     "metadata": {},
     "output_type": "execute_result"
    }
   ],
   "source": [
    "# raw[\"ingredients\"]\n",
    "# raw[\"imageList\"]"
   ]
  },
  {
   "cell_type": "code",
   "execution_count": 25,
   "metadata": {},
   "outputs": [
    {
     "ename": "KeyError",
     "evalue": "'products'",
     "output_type": "error",
     "traceback": [
      "\u001b[0;31m---------------------------------------------------------------------------\u001b[0m",
      "\u001b[0;31mKeyError\u001b[0m                                  Traceback (most recent call last)",
      "Input \u001b[0;32mIn [25]\u001b[0m, in \u001b[0;36m<cell line: 1>\u001b[0;34m()\u001b[0m\n\u001b[0;32m----> 1\u001b[0m \u001b[38;5;28;01mdel\u001b[39;00m(raw[\u001b[38;5;124m\"\u001b[39m\u001b[38;5;124mproducts\u001b[39m\u001b[38;5;124m\"\u001b[39m])\n",
      "\u001b[0;31mKeyError\u001b[0m: 'products'"
     ]
    }
   ],
   "source": [
    "del(raw[\"products\"])"
   ]
  },
  {
   "cell_type": "code",
   "execution_count": 62,
   "metadata": {},
   "outputs": [
    {
     "data": {
      "text/plain": [
       "30"
      ]
     },
     "execution_count": 62,
     "metadata": {},
     "output_type": "execute_result"
    }
   ],
   "source": [
    "api.preparation_time"
   ]
  },
  {
   "cell_type": "code",
   "execution_count": 11,
   "metadata": {},
   "outputs": [],
   "source": [
    "def kptncook_to_mealie(api: KptnCook):\n",
    "    kwargs = {\n",
    "        \"name\": api.localized_title.de,\n",
    "        \"notes\": [\n",
    "            RecipeNote(title=\"author comment\", text=api.author_comment.de),\n",
    "        ],\n",
    "        \"nutrition\": Nutrition(\n",
    "            calories=api.recipe_nutrition.calories,\n",
    "            protein_content=api.recipe_nutrition.protein,\n",
    "            fat_content=api.recipe_nutrition.fat,\n",
    "            carbohydrate_content=api.recipe_nutrition.carbohydrate,\n",
    "        ),\n",
    "        \"prep_time\": api.preparation_time,\n",
    "        \"cook_time\": api.cooking_time,\n",
    "    }\n",
    "    return Recipe(**kwargs)"
   ]
  },
  {
   "cell_type": "code",
   "execution_count": 12,
   "metadata": {},
   "outputs": [
    {
     "ename": "NameError",
     "evalue": "name 'api' is not defined",
     "output_type": "error",
     "traceback": [
      "\u001b[0;31m---------------------------------------------------------------------------\u001b[0m",
      "\u001b[0;31mNameError\u001b[0m                                 Traceback (most recent call last)",
      "Input \u001b[0;32mIn [12]\u001b[0m, in \u001b[0;36m<cell line: 1>\u001b[0;34m()\u001b[0m\n\u001b[0;32m----> 1\u001b[0m \u001b[43mapi\u001b[49m\u001b[38;5;241m.\u001b[39mrecipe_nutrition\n",
      "\u001b[0;31mNameError\u001b[0m: name 'api' is not defined"
     ]
    }
   ],
   "source": [
    "api.recipe_nutrition"
   ]
  },
  {
   "cell_type": "code",
   "execution_count": 13,
   "metadata": {},
   "outputs": [],
   "source": [
    "api = KptnCook(**transform_keys(recipes[0]))\n",
    "recipe = kptncook_to_mealie(api)"
   ]
  },
  {
   "cell_type": "code",
   "execution_count": 14,
   "metadata": {},
   "outputs": [
    {
     "data": {
      "text/plain": [
       "Recipe(id=None, user_id=UUID('89a5193b-85b2-4787-8f2d-00252189ee51'), group_id=UUID('3f4917fd-f229-4a5e-8825-31b4812e91b5'), name='Linsen-Tomaten-Bolognese', slug='linsen-tomaten-bolognese', image=None, recipe_yield=None, total_time=None, prep_time='30', cook_time='0', perform_time=None, description='', recipe_category=[], tags=[], tools=[], rating=None, org_url=None, recipe_ingredient=[], date_added=None, date_updated=None, recipe_instructions=[], nutrition=Nutrition(calories='756', fat_content='12', protein_content='35', carbohydrate_content='128', fiber_content=None, sodium_content=None, sugar_content=None), settings=RecipeSettings(public=False, show_nutrition=False, show_assets=False, landscape_view=False, disable_comments=True, disable_amount=True, locked=False), assets=[], notes=[RecipeNote(title='author comment', text='Die etwas andere Bolognese')], extras={}, comments=[])"
      ]
     },
     "execution_count": 14,
     "metadata": {},
     "output_type": "execute_result"
    }
   ],
   "source": [
    "recipe"
   ]
  },
  {
   "cell_type": "markdown",
   "metadata": {},
   "source": [
    "# Save Receipt"
   ]
  },
  {
   "cell_type": "code",
   "execution_count": 23,
   "metadata": {},
   "outputs": [],
   "source": [
    "from mealie.db.db_setup import SessionLocal\n",
    "from mealie.repos.all_repositories import get_repositories\n",
    "\n",
    "from mealie.services.recipe.recipe_data_service import RecipeDataService"
   ]
  },
  {
   "cell_type": "code",
   "execution_count": 16,
   "metadata": {},
   "outputs": [],
   "source": [
    "session = SessionLocal()\n",
    "db = get_repositories(session)"
   ]
  },
  {
   "cell_type": "code",
   "execution_count": 17,
   "metadata": {},
   "outputs": [],
   "source": [
    "user = db.users.get_by_username(\"admin\")"
   ]
  },
  {
   "cell_type": "code",
   "execution_count": 18,
   "metadata": {},
   "outputs": [],
   "source": [
    "recipe.user_id = user.id\n",
    "recipe.group_id = user.group_id"
   ]
  },
  {
   "cell_type": "code",
   "execution_count": 19,
   "metadata": {},
   "outputs": [],
   "source": [
    "recipe_model = db.recipes.create(recipe)"
   ]
  },
  {
   "cell_type": "code",
   "execution_count": 20,
   "metadata": {},
   "outputs": [
    {
     "data": {
      "text/plain": [
       "UUID('483805f4-db70-4603-9607-475dbb290b53')"
      ]
     },
     "execution_count": 20,
     "metadata": {},
     "output_type": "execute_result"
    }
   ],
   "source": [
    "recipe_model.id"
   ]
  },
  {
   "cell_type": "code",
   "execution_count": 21,
   "metadata": {},
   "outputs": [],
   "source": []
  },
  {
   "cell_type": "code",
   "execution_count": 22,
   "metadata": {},
   "outputs": [
    {
     "data": {
      "text/plain": [
       "'https://d2am1qai33sroc.cloudfront.net/image/0ec0a91e-c516-45f4-ab0b-a2fea1fdac2f?kptnkey=6q7QNKy-oIgk-IMuWisJ-jfN7s6'"
      ]
     },
     "execution_count": 22,
     "metadata": {},
     "output_type": "execute_result"
    }
   ],
   "source": [
    "api.get_image_url(api_key)"
   ]
  },
  {
   "cell_type": "code",
   "execution_count": 24,
   "metadata": {},
   "outputs": [],
   "source": [
    "data_service = RecipeDataService(recipe_model.id)"
   ]
  },
  {
   "cell_type": "code",
   "execution_count": 25,
   "metadata": {},
   "outputs": [
    {
     "data": {
      "text/html": [
       "<pre style=\"white-space:pre;overflow-x:auto;line-height:normal;font-family:Menlo,'DejaVu Sans Mono',consolas,'Courier New',monospace\"><span style=\"color: #7fbfbf; text-decoration-color: #7fbfbf\">[03/24/22 15:19:51] </span><span style=\"color: #000080; text-decoration-color: #000080\">INFO    </span> Image URL: <span style=\"color: #0000ff; text-decoration-color: #0000ff; text-decoration: underline\">https://d2am1qai33sroc.clou</span> <a href=\"file:///Users/jochen/projects/mealie/mealie/services/recipe/recipe_data_service.py\"><span style=\"color: #7f7f7f; text-decoration-color: #7f7f7f\">recipe_data_service.py</span></a><span style=\"color: #7f7f7f; text-decoration-color: #7f7f7f\">:</span><a href=\"file:///Users/jochen/projects/mealie/mealie/services/recipe/recipe_data_service.py#60\"><span style=\"color: #7f7f7f; text-decoration-color: #7f7f7f\">60</span></a>\n",
       "                             <span style=\"color: #0000ff; text-decoration-color: #0000ff; text-decoration: underline\">dfront.net/image/0ec0a91e-c516-45f4-ab</span>                          \n",
       "                             <span style=\"color: #0000ff; text-decoration-color: #0000ff; text-decoration: underline\">0b-a2fea1fdac2f?kptnkey=6q7QNKy-oIgk-I</span>                          \n",
       "                             <span style=\"color: #0000ff; text-decoration-color: #0000ff; text-decoration: underline\">MuWisJ-jfN7s6</span>                                                   \n",
       "</pre>\n"
      ],
      "text/plain": [
       "\u001b[2;36m[03/24/22 15:19:51]\u001b[0m\u001b[2;36m \u001b[0m\u001b[34mINFO    \u001b[0m Image URL: \u001b[4;94mhttps://d2am1qai33sroc.clou\u001b[0m \u001b]8;id=550369;file:///Users/jochen/projects/mealie/mealie/services/recipe/recipe_data_service.py\u001b\\\u001b[2mrecipe_data_service.py\u001b[0m\u001b]8;;\u001b\\\u001b[2m:\u001b[0m\u001b]8;id=151761;file:///Users/jochen/projects/mealie/mealie/services/recipe/recipe_data_service.py#60\u001b\\\u001b[2m60\u001b[0m\u001b]8;;\u001b\\\n",
       "                             \u001b[4;94mdfront.net/image/0ec0a91e-c516-45f4-ab\u001b[0m                          \n",
       "                             \u001b[4;94m0b-a2fea1fdac2f?\u001b[0m\u001b[4;94mkptnkey\u001b[0m\u001b[4;94m=\u001b[0m\u001b[4;94m6q7QNKy\u001b[0m\u001b[4;94m-oIgk-I\u001b[0m                          \n",
       "                             \u001b[4;94mMuWisJ-jfN7s6\u001b[0m                                                   \n"
      ]
     },
     "metadata": {},
     "output_type": "display_data"
    },
    {
     "data": {
      "text/html": [
       "<pre style=\"white-space:pre;overflow-x:auto;line-height:normal;font-family:Menlo,'DejaVu Sans Mono',consolas,'Courier New',monospace\"><span style=\"color: #7fbfbf; text-decoration-color: #7fbfbf\">[03/24/22 15:19:52] </span><span style=\"color: #000080; text-decoration-color: #000080\">INFO    </span> File Name Suffix .jpg                 <a href=\"file:///Users/jochen/projects/mealie/mealie/services/recipe/recipe_data_service.py\"><span style=\"color: #7f7f7f; text-decoration-color: #7f7f7f\">recipe_data_service.py</span></a><span style=\"color: #7f7f7f; text-decoration-color: #7f7f7f\">:</span><a href=\"file:///Users/jochen/projects/mealie/mealie/services/recipe/recipe_data_service.py#105\"><span style=\"color: #7f7f7f; text-decoration-color: #7f7f7f\">105</span></a>\n",
       "</pre>\n"
      ],
      "text/plain": [
       "\u001b[2;36m[03/24/22 15:19:52]\u001b[0m\u001b[2;36m \u001b[0m\u001b[34mINFO    \u001b[0m File Name Suffix .jpg                 \u001b]8;id=948509;file:///Users/jochen/projects/mealie/mealie/services/recipe/recipe_data_service.py\u001b\\\u001b[2mrecipe_data_service.py\u001b[0m\u001b]8;;\u001b\\\u001b[2m:\u001b[0m\u001b]8;id=158225;file:///Users/jochen/projects/mealie/mealie/services/recipe/recipe_data_service.py#105\u001b\\\u001b[2m105\u001b[0m\u001b]8;;\u001b\\\n"
      ]
     },
     "metadata": {},
     "output_type": "display_data"
    },
    {
     "data": {
      "text/html": [
       "<pre style=\"white-space:pre;overflow-x:auto;line-height:normal;font-family:Menlo,'DejaVu Sans Mono',consolas,'Courier New',monospace\"><span style=\"color: #7fbfbf; text-decoration-color: #7fbfbf\">                    </span><span style=\"color: #000080; text-decoration-color: #000080\">INFO    </span> original.jpg minified                              <a href=\"file:///Users/jochen/projects/mealie/mealie/pkgs/img/minify.py\"><span style=\"color: #7f7f7f; text-decoration-color: #7f7f7f\">minify.py</span></a><span style=\"color: #7f7f7f; text-decoration-color: #7f7f7f\">:</span><a href=\"file:///Users/jochen/projects/mealie/mealie/pkgs/img/minify.py#116\"><span style=\"color: #7f7f7f; text-decoration-color: #7f7f7f\">116</span></a>\n",
       "</pre>\n"
      ],
      "text/plain": [
       "\u001b[2;36m                   \u001b[0m\u001b[2;36m \u001b[0m\u001b[34mINFO    \u001b[0m original.jpg minified                              \u001b]8;id=116326;file:///Users/jochen/projects/mealie/mealie/pkgs/img/minify.py\u001b\\\u001b[2mminify.py\u001b[0m\u001b]8;;\u001b\\\u001b[2m:\u001b[0m\u001b]8;id=728297;file:///Users/jochen/projects/mealie/mealie/pkgs/img/minify.py#116\u001b\\\u001b[2m116\u001b[0m\u001b]8;;\u001b\\\n"
      ]
     },
     "metadata": {},
     "output_type": "display_data"
    },
    {
     "data": {
      "text/html": [
       "<pre style=\"white-space:pre;overflow-x:auto;line-height:normal;font-family:Menlo,'DejaVu Sans Mono',consolas,'Courier New',monospace\"><span style=\"color: #7fbfbf; text-decoration-color: #7fbfbf\">                    </span><span style=\"color: #000080; text-decoration-color: #000080\">INFO    </span> Tiny image saved                                   <a href=\"file:///Users/jochen/projects/mealie/mealie/pkgs/img/minify.py\"><span style=\"color: #7f7f7f; text-decoration-color: #7f7f7f\">minify.py</span></a><span style=\"color: #7f7f7f; text-decoration-color: #7f7f7f\">:</span><a href=\"file:///Users/jochen/projects/mealie/mealie/pkgs/img/minify.py#126\"><span style=\"color: #7f7f7f; text-decoration-color: #7f7f7f\">126</span></a>\n",
       "</pre>\n"
      ],
      "text/plain": [
       "\u001b[2;36m                   \u001b[0m\u001b[2;36m \u001b[0m\u001b[34mINFO    \u001b[0m Tiny image saved                                   \u001b]8;id=49962;file:///Users/jochen/projects/mealie/mealie/pkgs/img/minify.py\u001b\\\u001b[2mminify.py\u001b[0m\u001b]8;;\u001b\\\u001b[2m:\u001b[0m\u001b]8;id=995251;file:///Users/jochen/projects/mealie/mealie/pkgs/img/minify.py#126\u001b\\\u001b[2m126\u001b[0m\u001b]8;;\u001b\\\n"
      ]
     },
     "metadata": {},
     "output_type": "display_data"
    }
   ],
   "source": [
    "data_service.scrape_image(api.get_image_url(api_key))"
   ]
  },
  {
   "cell_type": "code",
   "execution_count": null,
   "metadata": {},
   "outputs": [],
   "source": []
  },
  {
   "cell_type": "code",
   "execution_count": null,
   "metadata": {},
   "outputs": [],
   "source": []
  }
 ],
 "metadata": {
  "interpreter": {
   "hash": "55dfb723f91d1e086a0fd0b60c24856523fc3bc1c3d6a3f24e98007dab904a9b"
  },
  "kernelspec": {
   "display_name": "Python 3 (ipykernel)",
   "language": "python",
   "name": "python3"
  },
  "language_info": {
   "codemirror_mode": {
    "name": "ipython",
    "version": 3
   },
   "file_extension": ".py",
   "mimetype": "text/x-python",
   "name": "python",
   "nbconvert_exporter": "python",
   "pygments_lexer": "ipython3",
   "version": "3.10.3"
  }
 },
 "nbformat": 4,
 "nbformat_minor": 4
}
