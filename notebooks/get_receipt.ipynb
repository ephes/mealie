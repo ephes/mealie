{
 "cells": [
  {
   "cell_type": "code",
   "execution_count": 1,
   "metadata": {},
   "outputs": [],
   "source": [
    "from mealie.db.db_setup import SessionLocal\n",
    "\n",
    "from mealie.repos.all_repositories import get_repositories\n",
    "\n",
    "from mealie.schema.recipe import RecipeSummary"
   ]
  },
  {
   "cell_type": "code",
   "execution_count": 2,
   "metadata": {},
   "outputs": [],
   "source": [
    "session = SessionLocal()\n",
    "db = get_repositories(session)"
   ]
  },
  {
   "cell_type": "code",
   "execution_count": 3,
   "metadata": {},
   "outputs": [],
   "source": [
    "recipes = db.recipes.count_untagged(count=False, override_schema=RecipeSummary)"
   ]
  },
  {
   "cell_type": "code",
   "execution_count": 4,
   "metadata": {},
   "outputs": [
    {
     "data": {
      "text/plain": [
       "{'id': UUID('3e40ee3f-ab77-4966-b041-eb30fd965557'),\n",
       " 'user_id': UUID('899979e8-f240-4d53-8ed3-eaeac21ecd53'),\n",
       " 'group_id': UUID('71aae446-1aa5-4db7-9782-4021692cd0ce'),\n",
       " 'name': '15 Leftover Pulled Pork Recipes',\n",
       " 'slug': '15-leftover-pulled-pork-recipes',\n",
       " 'image': '4Oux',\n",
       " 'recipe_yield': '',\n",
       " 'total_time': None,\n",
       " 'prep_time': None,\n",
       " 'cook_time': None,\n",
       " 'perform_time': None,\n",
       " 'description': 'Put your leftovers to good use with these genius recipes. ',\n",
       " 'recipe_category': [],\n",
       " 'tags': [],\n",
       " 'tools': [],\n",
       " 'rating': None,\n",
       " 'org_url': 'https://www.allrecipes.com/gallery/leftover-pulled-pork-recipes/',\n",
       " 'recipe_ingredient': [{'title': None,\n",
       "   'note': 'Could not detect ingredients',\n",
       "   'unit': None,\n",
       "   'food': None,\n",
       "   'disable_amount': True,\n",
       "   'quantity': 1.0,\n",
       "   'reference_id': UUID('c164e7f0-7717-4fb2-a551-aaabe612d778')}],\n",
       " 'date_added': datetime.date(2022, 3, 23),\n",
       " 'date_updated': datetime.datetime(2022, 3, 23, 15, 28, 36, 467529)}"
      ]
     },
     "execution_count": 4,
     "metadata": {},
     "output_type": "execute_result"
    }
   ],
   "source": [
    "recipes[0].dict()"
   ]
  },
  {
   "cell_type": "code",
   "execution_count": 5,
   "metadata": {},
   "outputs": [
    {
     "data": {
      "text/plain": [
       "[Recipe(id=UUID('3e40ee3f-ab77-4966-b041-eb30fd965557'), user_id=UUID('899979e8-f240-4d53-8ed3-eaeac21ecd53'), group_id=UUID('71aae446-1aa5-4db7-9782-4021692cd0ce'), name='15 Leftover Pulled Pork Recipes', slug='15-leftover-pulled-pork-recipes', image='4Oux', recipe_yield='', total_time=None, prep_time=None, cook_time=None, perform_time=None, description='Put your leftovers to good use with these genius recipes. ', recipe_category=[], tags=[], tools=[], rating=None, org_url='https://www.allrecipes.com/gallery/leftover-pulled-pork-recipes/', recipe_ingredient=[RecipeIngredient(title=None, note='Could not detect ingredients', unit=None, food=None, disable_amount=True, quantity=1.0, reference_id=UUID('c164e7f0-7717-4fb2-a551-aaabe612d778'))], date_added=datetime.date(2022, 3, 23), date_updated=datetime.datetime(2022, 3, 23, 15, 28, 36, 467529), recipe_instructions=[RecipeStep(id=UUID('b6e24e9c-b793-4e90-b319-086cbef4fb38'), title='', text='Could not detect instructions', ingredient_references=[])], nutrition=Nutrition(calories=None, fat_content=None, protein_content=None, carbohydrate_content=None, fiber_content=None, sodium_content=None, sugar_content=None), settings=RecipeSettings(public=True, show_nutrition=False, show_assets=False, landscape_view=False, disable_comments=False, disable_amount=False, locked=False), assets=[], notes=[], extras={}, comments=[])]"
      ]
     },
     "execution_count": 5,
     "metadata": {},
     "output_type": "execute_result"
    }
   ],
   "source": [
    "db.recipes.get_all_public(limit=10)"
   ]
  },
  {
   "cell_type": "markdown",
   "metadata": {},
   "source": [
    "# Create Receipt"
   ]
  },
  {
   "cell_type": "code",
   "execution_count": 17,
   "metadata": {},
   "outputs": [],
   "source": [
    "user = db.users.get_by_username(\"admin\")"
   ]
  },
  {
   "cell_type": "code",
   "execution_count": 18,
   "metadata": {},
   "outputs": [
    {
     "data": {
      "text/plain": [
       "{'username': 'admin',\n",
       " 'full_name': 'Jochen Wersdörfer',\n",
       " 'email': 'jochen@wersdoerfer.de',\n",
       " 'admin': True,\n",
       " 'group': 'Home',\n",
       " 'advanced': True,\n",
       " 'favorite_recipes': [],\n",
       " 'can_invite': True,\n",
       " 'can_manage': True,\n",
       " 'can_organize': True,\n",
       " 'id': UUID('899979e8-f240-4d53-8ed3-eaeac21ecd53'),\n",
       " 'group_id': UUID('71aae446-1aa5-4db7-9782-4021692cd0ce'),\n",
       " 'tokens': [],\n",
       " 'cache_key': '1234',\n",
       " 'password': '$2b$12$fOSM/wDeaSxvQ5W2tP67AuLyWbPCWCULmh0fb9FUpXIDO09Ve8EEu'}"
      ]
     },
     "execution_count": 18,
     "metadata": {},
     "output_type": "execute_result"
    }
   ],
   "source": [
    "user.dict()"
   ]
  },
  {
   "cell_type": "code",
   "execution_count": 19,
   "metadata": {},
   "outputs": [],
   "source": [
    "from mealie.schema.recipe.recipe import Recipe\n",
    "from mealie.schema.recipe.recipe_ingredient import RecipeIngredient\n"
   ]
  },
  {
   "cell_type": "code",
   "execution_count": 21,
   "metadata": {},
   "outputs": [],
   "source": [
    "    recipe = Recipe(\n",
    "        user_id=user.id,\n",
    "        group_id=user.group_id,\n",
    "        name=\"some new receipt\",\n",
    "        recipe_ingredient=[\n",
    "            RecipeIngredient(note=\"Ingredient 1\"),\n",
    "            RecipeIngredient(note=\"Ingredient 2\"),\n",
    "            RecipeIngredient(note=\"Ingredient 3\"),\n",
    "            RecipeIngredient(note=\"Ingredient 4\"),\n",
    "            RecipeIngredient(note=\"Ingredient 5\"),\n",
    "            RecipeIngredient(note=\"Ingredient 6\"),\n",
    "        ],\n",
    "    )\n"
   ]
  },
  {
   "cell_type": "code",
   "execution_count": 23,
   "metadata": {},
   "outputs": [
    {
     "data": {
      "text/plain": [
       "Recipe(id=None, user_id=UUID('899979e8-f240-4d53-8ed3-eaeac21ecd53'), group_id=UUID('71aae446-1aa5-4db7-9782-4021692cd0ce'), name='some new receipt', slug='some-new-receipt', image=None, recipe_yield=None, total_time=None, prep_time=None, cook_time=None, perform_time=None, description='', recipe_category=[], tags=[], tools=[], rating=None, org_url=None, recipe_ingredient=[RecipeIngredient(title=None, note='Ingredient 1', unit=None, food=None, disable_amount=True, quantity=1, reference_id=UUID('555d8689-fc46-4545-ae5a-838a3525333e')), RecipeIngredient(title=None, note='Ingredient 2', unit=None, food=None, disable_amount=True, quantity=1, reference_id=UUID('e98fa5ec-67cc-48db-a382-6b434da1ab7f')), RecipeIngredient(title=None, note='Ingredient 3', unit=None, food=None, disable_amount=True, quantity=1, reference_id=UUID('658c5f32-019b-4394-ba7a-d83b893ac104')), RecipeIngredient(title=None, note='Ingredient 4', unit=None, food=None, disable_amount=True, quantity=1, reference_id=UUID('3d80a654-3975-4e8c-a231-1245e679dc34')), RecipeIngredient(title=None, note='Ingredient 5', unit=None, food=None, disable_amount=True, quantity=1, reference_id=UUID('989862e7-2dd9-4128-af24-6460f990117a')), RecipeIngredient(title=None, note='Ingredient 6', unit=None, food=None, disable_amount=True, quantity=1, reference_id=UUID('95a3d2b6-70e4-4214-b7ce-138c92c8e933'))], date_added=None, date_updated=None, recipe_instructions=[], nutrition=None, settings=RecipeSettings(public=False, show_nutrition=False, show_assets=False, landscape_view=False, disable_comments=True, disable_amount=True, locked=False), assets=[], notes=[], extras={}, comments=[])"
      ]
     },
     "execution_count": 23,
     "metadata": {},
     "output_type": "execute_result"
    }
   ],
   "source": [
    "recipe"
   ]
  },
  {
   "cell_type": "code",
   "execution_count": 24,
   "metadata": {},
   "outputs": [],
   "source": [
    "recipe_model = db.recipes.create(recipe)"
   ]
  }
 ],
 "metadata": {
  "interpreter": {
   "hash": "55dfb723f91d1e086a0fd0b60c24856523fc3bc1c3d6a3f24e98007dab904a9b"
  },
  "kernelspec": {
   "display_name": "Python 3 (ipykernel)",
   "language": "python",
   "name": "python3"
  },
  "language_info": {
   "codemirror_mode": {
    "name": "ipython",
    "version": 3
   },
   "file_extension": ".py",
   "mimetype": "text/x-python",
   "name": "python",
   "nbconvert_exporter": "python",
   "pygments_lexer": "ipython3",
   "version": "3.10.3"
  }
 },
 "nbformat": 4,
 "nbformat_minor": 4
}
