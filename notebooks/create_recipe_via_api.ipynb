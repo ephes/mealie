{
 "cells": [
  {
   "cell_type": "code",
   "execution_count": 12,
   "id": "dad35c12-6212-4c59-8ba5-05278efe17c7",
   "metadata": {},
   "outputs": [],
   "source": [
    "import json\n",
    "import requests\n",
    "\n",
    "from pathlib import Path\n",
    "from getpass import getpass\n",
    "\n",
    "from mealie.schema.recipe.recipe import Recipe"
   ]
  },
  {
   "cell_type": "markdown",
   "id": "83968ecd-42fd-4dcf-95d4-fc0f241d1988",
   "metadata": {},
   "source": [
    "# Load Recipe"
   ]
  },
  {
   "cell_type": "code",
   "execution_count": 5,
   "id": "2c76a1bc-f470-4497-84ed-282331fbc67a",
   "metadata": {},
   "outputs": [],
   "source": [
    "class RecipeWithImage(Recipe):\n",
    "    image_url: str\n",
    "\n",
    "\n",
    "with Path(\"recipe.json\").open(\"r\") as f:\n",
    "    recipe = RecipeWithImage.parse_raw(f.read())"
   ]
  },
  {
   "cell_type": "code",
   "execution_count": 6,
   "id": "1090e52f-eb5e-4790-b0a0-f65754842e98",
   "metadata": {},
   "outputs": [],
   "source": [
    "# recipe.dict()"
   ]
  },
  {
   "cell_type": "markdown",
   "id": "df70488d-1eb1-4167-9c8f-e307e7f8d1ce",
   "metadata": {},
   "source": [
    "# Create Recipe"
   ]
  },
  {
   "cell_type": "code",
   "execution_count": 88,
   "id": "3cb0d213-5d73-4e4c-b206-25ed8a73c9d5",
   "metadata": {},
   "outputs": [],
   "source": [
    "class MealieApiClient:\n",
    "    def __init__(self, base_url):\n",
    "        self.base_url = base_url\n",
    "        self.headers = {}\n",
    "        \n",
    "    @property\n",
    "    def logged_in(self):\n",
    "        return \"access_token\" in self.headers\n",
    "\n",
    "    def to_url(self, path):\n",
    "        return f\"{self.base_url}{path}\"\n",
    "\n",
    "    def __getattr__(self, name):\n",
    "        \"\"\"\n",
    "        Return proxy for requests, joining base_url with path and\n",
    "        providing authentication headers automatically.\n",
    "        \"\"\"\n",
    "        def proxy(path, **kwargs):\n",
    "            url = self.to_url(path)\n",
    "            set_headers = kwargs.get(\"headers\", {})\n",
    "            kwargs[\"headers\"] = set_headers | self.headers\n",
    "            return getattr(requests, name)(url, **kwargs)\n",
    "        return proxy\n",
    "\n",
    "    def fetch_api_token(self, username, password):\n",
    "        login_data = {\"username\": username, \"password\": password}\n",
    "        r = self.post(\"/auth/token\", data=login_data)\n",
    "        r.raise_for_status()\n",
    "        return r.json()[\"access_token\"]\n",
    "        \n",
    "    def login(self, username: str = \"admin\", password: str = \"\"):\n",
    "        if password == \"\":\n",
    "            password = getpass()\n",
    "        access_token = self.fetch_api_token(username, password)\n",
    "        self.headers={\"authorization\": f\"Bearer {access_token}\"}\n",
    "\n",
    "    def _post_recipe_and_get_slug(self, recipe):\n",
    "        r = self.post(\"/recipes\", data=recipe.json())\n",
    "        r.raise_for_status()\n",
    "        slug = r.json()\n",
    "        return slug\n",
    "\n",
    "    def _scrape_image_for_recipe(self, recipe, slug):\n",
    "        json_image_url = json.dumps({\"url\": recipe.image_url})\n",
    "        scrape_image_path = f\"/recipes/{slug}/image\"\n",
    "        r = self.post(scrape_image_path, data=json_image_url)\n",
    "        r.raise_for_status()\n",
    "\n",
    "    def _update_user_and_group_id(self, recipe, slug):\n",
    "        recipe_detail_path = f\"/recipes/{slug}\"\n",
    "        r = self.get(recipe_detail_path)\n",
    "        r.raise_for_status()\n",
    "        recipe_details = r.json()\n",
    "        update_attributes = [\"id\", \"userId\", \"groupId\"]\n",
    "        updated_details = {k: recipe_details[k] for k in update_attributes}\n",
    "        recipe = RecipeWithImage(**(recipe.dict() | updated_details))\n",
    "        return recipe\n",
    "\n",
    "    def _update_recipe(self, recipe, slug):\n",
    "        recipe_detail_path = f\"/recipes/{slug}\"\n",
    "        r = self.put(recipe_detail_path, data=recipe.json())\n",
    "        r.raise_for_status()\n",
    "        return Recipe.parse_obj(r.json())\n",
    "    \n",
    "    def create_recipe(self, recipe):\n",
    "        slug = self._post_recipe_and_get_slug(recipe)\n",
    "        self._scrape_image_for_recipe(recipe, slug)\n",
    "        recipe = self._update_user_and_group_id(recipe, slug)\n",
    "        return self._update_recipe(recipe, slug)        "
   ]
  },
  {
   "cell_type": "code",
   "execution_count": 89,
   "id": "1d8961f5-73ac-4382-bb49-11f2ab2ca307",
   "metadata": {},
   "outputs": [],
   "source": [
    "client = MealieApiClient(\"http://localhost:9000/api\")"
   ]
  },
  {
   "cell_type": "code",
   "execution_count": 90,
   "id": "c640468a-fe73-4475-a1f2-a33d8273abba",
   "metadata": {},
   "outputs": [
    {
     "name": "stdin",
     "output_type": "stream",
     "text": [
      " ········\n"
     ]
    }
   ],
   "source": [
    "client.login()"
   ]
  },
  {
   "cell_type": "code",
   "execution_count": 91,
   "id": "6ff23302-d71c-4210-8138-cf55e26f3558",
   "metadata": {},
   "outputs": [],
   "source": [
    "recipe = client.create_recipe(recipe)"
   ]
  },
  {
   "cell_type": "code",
   "execution_count": 92,
   "id": "4d1f962d-aae9-47cb-af1d-877e0de42277",
   "metadata": {},
   "outputs": [
    {
     "data": {
      "text/plain": [
       "{'id': UUID('430e5bc4-de2b-41f7-b697-9c99b84ce3bf'),\n",
       " 'user_id': UUID('899979e8-f240-4d53-8ed3-eaeac21ecd53'),\n",
       " 'group_id': UUID('71aae446-1aa5-4db7-9782-4021692cd0ce'),\n",
       " 'name': 'High Protein Herzhaftes Waffelsandwich mit Thunfisch-Creme',\n",
       " 'slug': 'high-protein-herzhaftes-waffelsandwich-mit-thunfisch-creme',\n",
       " 'image': None,\n",
       " 'recipe_yield': None,\n",
       " 'total_time': None,\n",
       " 'prep_time': '30',\n",
       " 'cook_time': '0',\n",
       " 'perform_time': None,\n",
       " 'description': '',\n",
       " 'recipe_category': [],\n",
       " 'tags': [],\n",
       " 'tools': [],\n",
       " 'rating': None,\n",
       " 'org_url': None,\n",
       " 'recipe_ingredient': [],\n",
       " 'date_added': None,\n",
       " 'date_updated': datetime.datetime(2022, 3, 26, 8, 38, 5, 686327),\n",
       " 'recipe_instructions': [],\n",
       " 'nutrition': {'calories': '477',\n",
       "  'fat_content': '17',\n",
       "  'protein_content': '53',\n",
       "  'carbohydrate_content': '25',\n",
       "  'fiber_content': None,\n",
       "  'sodium_content': None,\n",
       "  'sugar_content': None},\n",
       " 'settings': {'public': False,\n",
       "  'show_nutrition': False,\n",
       "  'show_assets': False,\n",
       "  'landscape_view': False,\n",
       "  'disable_comments': True,\n",
       "  'disable_amount': True,\n",
       "  'locked': False},\n",
       " 'assets': [],\n",
       " 'notes': [{'title': 'author comment', 'text': 'Protein-Geheimwaffe(l)!'}],\n",
       " 'extras': {},\n",
       " 'comments': []}"
      ]
     },
     "execution_count": 92,
     "metadata": {},
     "output_type": "execute_result"
    }
   ],
   "source": [
    "recipe.dict()"
   ]
  }
 ],
 "metadata": {
  "kernelspec": {
   "display_name": "Python 3.10.2 ('mealie')",
   "language": "python",
   "name": "python3102jvsc74a57bd055dfb723f91d1e086a0fd0b60c24856523fc3bc1c3d6a3f24e98007dab904a9b"
  },
  "language_info": {
   "codemirror_mode": {
    "name": "ipython",
    "version": 3
   },
   "file_extension": ".py",
   "mimetype": "text/x-python",
   "name": "python",
   "nbconvert_exporter": "python",
   "pygments_lexer": "ipython3",
   "version": "3.10.3"
  }
 },
 "nbformat": 4,
 "nbformat_minor": 5
}
