{
 "cells": [
  {
   "cell_type": "markdown",
   "id": "c51addfc-50c7-404c-919c-35f819820f7d",
   "metadata": {},
   "source": [
    "## Beschreibe dein Projekt kurz\n",
    "\n",
    "(Max. 700 Zeichen)"
   ]
  },
  {
   "cell_type": "code",
   "execution_count": 55,
   "id": "2c2a77c8-a3f5-482b-a1d2-3626f6fb397f",
   "metadata": {},
   "outputs": [
    {
     "name": "stdout",
     "output_type": "stream",
     "text": [
      "692\n"
     ]
    }
   ],
   "source": [
    "text = \"\"\"\n",
    "Bei dem Projekt geht es geht darum, eine Open-Source-Software zu bauen, die es jedem auf\n",
    "einfache Art ermöglichen soll, Podcasts zu veröffentlichen und dabei selbst die komplette Kontrolle\n",
    "über Infrastruktur und Inhalte zu behalten. Folgende Anforderungen sollten erfüllt werden:\n",
    "\n",
    "* Erzeugung eines Feeds, der dann von Podcast-Playern dazu benutzt werden kann, Podcast-Episoden wiederzugeben\n",
    "* Die Audiodateien sollen selbst ausgeliefert werden können, ohne dass externe Infrastruktur (S3, CDNs)  verwendet werden muss\n",
    "* Die Software soll auf unterschiedlichen Infrastrukturen laufen können: Vom eigenen Rechner zuhause über einen eigenen Server bis zu Cloudlösungen soll alles möglich sein\n",
    "\"\"\"\n",
    "print(len(text))"
   ]
  },
  {
   "cell_type": "markdown",
   "id": "eaa3084a-d329-48b9-ab2b-2bbfabb029d3",
   "metadata": {},
   "source": [
    "## Welche gesellschaftliche Herausforderung willst du mit dem Projekt angehen?\n",
    "\n",
    "Max. 1300 Zeichen"
   ]
  },
  {
   "cell_type": "code",
   "execution_count": 36,
   "id": "911e6595-05c8-4495-a41b-341e5548d657",
   "metadata": {},
   "outputs": [
    {
     "name": "stdout",
     "output_type": "stream",
     "text": [
      "1152\n"
     ]
    }
   ],
   "source": [
    "old = \"\"\"\n",
    "Podcasts lösen für mich eines der ursprünglichen \n",
    "Versprechen des Internets ein: Jeder kann zum Sender werden und es gibt genug Platz für jedes Thema.\n",
    "Seit 2018 produziere ich auch selbst den python-podcast.de. Im Kontext traditioneller Massenmedien wäre\n",
    "eine solche Sendung unsinnig: Wozu knappe Sendezeit an ein Thema verschwenden, das nur wenige tausend\n",
    "Hörer interessiert? Für Interessierte ist ein Podcast zum Thema aber uU hoch relevant. Infrastruktur zu bauen,\n",
    "die mehr Menschen zusammenbringen kann, die sich für ein Thema interessieren halte ich für sehr sinnvoll.\n",
    "\n",
    "Es gibt aber noch einen zweiten Punkt: Wenn man etwas darüber erfahren möchte, wie das so ist, als\n",
    "Softwareentwickler zu arbeiten, könnte ich sicher etwas dazu erzählen. Ich könnte aber auch einfach den\n",
    "Entwicklungsprozess für dieses Projekt in einem Videostream dokumentieren. Ich habe das im letzten Jahr\n",
    "schon in etwa 120 Streams getan (danke Elternzeit) und würde das im Falle einer Förderung gerne wieder tun:\n",
    "\n",
    "https://youtube.com/playlist?list=PLCpjiflKbNHrjgxQK3GjUfZ1n-mXBBLN7\n",
    "\n",
    "Klar, man kann dicke Bücher über Softwareentwicklung lesen und an Universitäten studieren. Leuten dabei\n",
    "zusehen zu können, wie sie tatsächlich Software entwickeln, ist aber vielleicht auch nicht ganz schlecht. Mir\n",
    "selbst hat es jedenfalls schon sehr geholfen, anderen dabei zusehen zu können.\n",
    "\"\"\"\n",
    "\n",
    "text = \"\"\"\n",
    "1. Eine einfach benutzbare Möglichkeit schaffen, eigene Podcasts zu veröffentlichen\n",
    "\n",
    "Podcasts sind gut geeignet um Menschen zusammenzubringen, die sich für ein gemeinsames\n",
    "Thema interessieren. Seit Ende 2018 produziere ich mit einem weiteren Entwickler einen Podcast rund um die Programmiersprache\n",
    "Python (python-podcast.de). Den Software-Prototypen, mit dem wir diesen Podcast veröffentlichen,  ",
    "habe ich damals zu diesem Zweck selbst geschrieben. Dabei ist mir klargeworden, wie\n",
    "schwer bzw. eingeschränkt dieses Medium für Anwender zu nutzen ist, die selbst keine Softwareentwickler sind.\n",
    "\n",
    "2. Wissen darüber verbreiten, wie Softwareentwicklung praktisch funktioniert\n",
    "\n",
    "Oft kann man eine Menge lernen, wenn man die Gelegenheit bekommt, Profis bei der Arbeit\n",
    "über die Schulter zu schauen. In Python und auf deutsch gibt es da aber noch nicht viel\n",
    "Anschauungsmaterial. Das könnte mit der Veröffentlich der Arbeit an\n",
    "diesem Projekt verbessert werden. Tatsächlich habe ich bisher schon\n",
    "über 100 Videos veröffentlicht, in denen ich Software entwickele - auch\n",
    "und gerade zu diesem Thema:\n",
    "\n",
    "https://youtube.com/playlist?list=PLCpjiflKbNHrjgxQK3GjUfZ1n-mXBBLN7\n",
    "\"\"\"\n",
    "print(len(text))"
   ]
  },
  {
   "cell_type": "markdown",
   "id": "4fa42d72-bd9b-4e0a-96ee-d9d56e60d23e",
   "metadata": {},
   "source": [
    "## Wie willst du dein Projekt technisch umsetzen?\n",
    "\n",
    "Max. 1300 Zeichen"
   ]
  },
  {
   "cell_type": "code",
   "execution_count": 43,
   "id": "c0300016-badc-4b6a-86f0-0e7a1ef27552",
   "metadata": {},
   "outputs": [
    {
     "name": "stdout",
     "output_type": "stream",
     "text": [
      "1258\n"
     ]
    }
   ],
   "source": [
    "old = \"\"\"\n",
    "Die Herausforderung bei diesem Projekt besteht darin, dass es relativ viele und\n",
    "vielfältige Anforderungen gibt, aber nur wenige Entwickler (mich). Bei einem grossen\n",
    "Teil der Anforderungen geht es um klassische Webentwicklung. Etwas, für das\n",
    "alle grossen „batteries included“-Webframeworks (Ruby on Rails, Laravel, Django)\n",
    "bereits eine Menge Lösungen bereithalten. Da ich selbst aus der Python-Community\n",
    "komme, bevorzuge ich Django. Ich halte Python aber auch aus einem weiteren Grund\n",
    "für besonders geeignet:\n",
    "\n",
    "„Python is the second-best language for everything“ —Dan Callahan #PyCon2018\n",
    "\n",
    "Für Webentwicklung ist Python möglicherweise nur die zweitbeste Option hinter\n",
    "Ruby on Rails. Aber Python ist im Unterschied zu Ruby oder PHP eben auch für die\n",
    "anderen Anforderungen neben Webentwicklung die zweitbeste Option. Der beste\n",
    "mir bekannte Service zum automatischen Mastering (Lautstärkenormalisierung,\n",
    "Rauschunterdrückung etc.) von Podcast-Episoden ist Auphonic. Auphonic basiert\n",
    "auf Django und scikit-learn / numpy / scipy. D.h. auch für das Verarbeiten von\n",
    "Audiodaten ist Python sehr gut geeignet (vielleicht sogar zweitbest).\n",
    "\n",
    "Eine weitere wichtige Anforderung ist das Ausliefern von Audiofiles.  Und klar, Python\n",
    "ist vielleicht nicht ganz so gut was das Ausliefern von Files angeht wie Elixir/Erlang - \n",
    "es ist aber immer noch ziemlich gut. Hier ein Vortrag von mir auf der DjangoCon 2021:\n",
    "\n",
    "https://youtu.be/axWjD3Es9G8\n",
    "\"\"\"\n",
    "\n",
    "text = \"\"\"\n",
    "Das Besondere an diesem Projekt ist, dass hier Anforderungen aus sehr unterschiedlichen\n",
    "Bereichen zusammenkommen:\n",
    "\n",
    "* Webentwicklung: Feed / Webseite\n",
    "* Data Science zur Verarbeitung von Audioinhalten\n",
    "* Schnelle Eventloop für IO, benötigt beim Ausliefern von großen Audiodateien\n",
    "\n",
    "Mit Python lassen sich all diese Bereiche gut abdecken. Das war auch der Hauptgrund für mich,\n",
    "überhaupt darüber nachzudenken eine eigene Lösung zu entwickeln: Python wäre dafür perfekt\n",
    "geeignet und es gab bisher keine Software, die alle Bereiche abdeckt.\n",
    "\n",
    "* Mit Django gibt es ein stabiles „batteries included“ Webframework für Python\n",
    "* Mit scikit-learn, numpy und scipy lassen sich Audiodaten sehr gut verarbeiten\n",
    "* Vortrag von mir zum Ausliefern von Dateien auf der DjangoCon EU 2021 gehalten: https://youtu.be/axWjD3Es9G8\n",
    "\n",
    "Neben dem Python-Code im Kern der Anwendung kommen noch folgende Komponenten zum Einsatz:\n",
    "\n",
    "* PostgreSQL / sqlite als Datenbank\n",
    "* Django als Webframework\n",
    "* Wagtail als Content Management System\n",
    "* Htmx für die Usability und gegen zu viel Javascript im Frontend\n",
    "* Podlove Player als Web player\n",
    "* Traefik für Loadbalancing und https\n",
    "\n",
    "Ziel ist, die komplette Infrastruktur, die zur Veröffentlichung eines Podcasts benötigt wird, selbst betreiben zu können. \n",
    "\"\"\"\n",
    "print(len(text))"
   ]
  },
  {
   "cell_type": "markdown",
   "id": "9ac10c35-8160-4a3e-b0d1-9e345e718f28",
   "metadata": {},
   "source": [
    "## Hast du schon an der Idee gearbeitet? Wenn ja, beschreibe kurz den aktuellen Stand und erkläre die geplanten Neuerungen. *\n",
    "\n",
    "Max. 700 Zeichen"
   ]
  },
  {
   "cell_type": "code",
   "execution_count": 46,
   "id": "172a948d-a513-4882-8cac-c7de75e01b11",
   "metadata": {},
   "outputs": [
    {
     "name": "stdout",
     "output_type": "stream",
     "text": [
      "618\n"
     ]
    }
   ],
   "source": [
    "old = \"\"\"\n",
    "Woran es aktuell vor allem mangelt ist Benutzerfreundlichkeit. Was muss ich tun, wenn ich\n",
    "einen Podcast hosten möchte? Wie kann ich die Software auf meinen Server bei Hoster X\n",
    "deployen? Oder zu AWS / GCE / Azure in die Cloud? Was für Optionen mit welchen Vor und\n",
    "Nachteilen gibt es da überhaupt? Ein ansprechendes und konfigurierbares Design wäre\n",
    "sicher auch nicht verkehrt.\n",
    "\"\"\"\n",
    "\n",
    "text = \"\"\"\n",
    "Ein erster Prototyp ist seit Ende 2018 im Einsatz, um python-podcast.de zu betreiben.\n",
    "Das System funktioniert und auf technischer Ebene sehe ich keine großen offenen Fragen\n",
    "oder ungelöste Herausforderungen. \n",
    "\n",
    "Was jetzt vor allem fehlt, ist, das Projekt für Endanwender benutzbar zu machen. Dafür\n",
    "war bisher leider nie Zeit. Dazu muss vor allem UX / UI / Design verbessert und konfigurierbar\n",
    "gemacht werden. Es muss sehr gute Dokumentation geben, die erklärt, wie die Software\n",
    "verwendet werden kann. Und es muss einfach sein, das komplette System zu deployen. Sei\n",
    "es lokal, auf einem eigenen Server oder in der Cloud.\n",
    "\"\"\"\n",
    "print(len(text))"
   ]
  },
  {
   "cell_type": "markdown",
   "id": "d554bd18-19c5-49cb-a00e-4d708fb20ea2",
   "metadata": {},
   "source": [
    "## Welche ähnlichen Ansätze gibt es schon und was wird dein Projekt anders bzw. besser machen? *\n",
    "\n",
    "Max. 400 Zeichen"
   ]
  },
  {
   "cell_type": "code",
   "execution_count": 48,
   "id": "9f0c4f73-496f-4782-9fda-d699eb83aa5e",
   "metadata": {},
   "outputs": [
    {
     "name": "stdout",
     "output_type": "stream",
     "text": [
      "382\n"
     ]
    }
   ],
   "source": [
    "old = \"\"\"\n",
    "Die meisten Open-Source / Self-Hosting Lösungen für Podcasts basieren auf Wordpress.\n",
    "Das klingt zunächst nach einer guten Idee, weil Podcasts und Blogs technisch fast das gleiche sind\n",
    "und sich Worpress als die verbreitetste Self-Hosting Plattform für Blogs etabliert hat. Wordpress hat\n",
    "aber auch gravierende Nachteile:\n",
    "\n",
    "* Self-Hosting der Audiofiles ist nicht möglich\n",
    "* Man hat nur die Kontrolle über einen kleinen Teil der Hosting-Infrastruktur\n",
    "\"\"\"\n",
    "\n",
    "text = \"\"\"\n",
    "Die meisten Open-Source / Self-Hosting Lösungen für Podcasts sind als Plugin für\n",
    "Wordpress realisiert. Aber damit hat man nur die Kontrolle über einen sehr\n",
    "kleinen Teil der Infrastruktur. Der Hoster entscheidet über https, Datenbank und\n",
    "Audiodateien müssen über einen Drittanbieter inklusive zusätzlicher Traffickosten\n",
    "ausgeliefert werden.\n",
    "\n",
    "Es ginge so viel besser und unabhängig.\n",
    "\"\"\"\n",
    "\n",
    "print(len(text))"
   ]
  },
  {
   "cell_type": "markdown",
   "id": "bcd45a77-5c3b-44db-a017-2c45072fbdb1",
   "metadata": {},
   "source": [
    "## Wer ist die Zielgruppe und wie soll dein Projekt sie erreichen? *\n",
    "\n",
    "Max. 700 Zeichen"
   ]
  },
  {
   "cell_type": "code",
   "execution_count": 50,
   "id": "6fe7aa1d-11e3-47fa-99fc-95e7644f5290",
   "metadata": {},
   "outputs": [
    {
     "name": "stdout",
     "output_type": "stream",
     "text": [
      "619\n"
     ]
    }
   ],
   "source": [
    "text = \"\"\"\n",
    "Zielgruppe sind alle, die einen Podcast produzieren wollen. Mein Co-Host und ich podcasten bereits mit\n",
    "einer gewissen Reichweite - unser Podcast über Python ist meistens in den „Top 50 Technologie“-Charts\n",
    "von Spotify und  „Top 100 Technologie“ in iTunes. Wir würden in unserem Podcast natürlich auch über\n",
    "dieses Projekt sprechen. Und sobald der Prototyp in einem vorzeigbarem Zustand angekommen ist,\n",
    "wäre es sicher interessant in anderen Podcasts als Gast über das Thema Podcasthosting zu sprechen.\n",
    "Dieser Podcast beispielsweise hat sicher viele Hörer, die sich für dieses Thema interessieren:\n",
    "\n",
    "https://podlovers.org/\n",
    "\"\"\"\n",
    "\n",
    "print(len(text))"
   ]
  },
  {
   "cell_type": "markdown",
   "id": "71772e8a-34a4-4924-b1de-aab1341740ef",
   "metadata": {},
   "source": [
    "## Skizziere kurz die wichtigsten Meilensteine, die im Förderzeitraum umgesetzt werden sollen\n",
    "\n",
    "Max. 700 Zeichen"
   ]
  },
  {
   "cell_type": "code",
   "execution_count": 52,
   "id": "aad9baa3-eccd-4a8b-af63-8ce986274a49",
   "metadata": {},
   "outputs": [
    {
     "name": "stdout",
     "output_type": "stream",
     "text": [
      "687\n"
     ]
    }
   ],
   "source": [
    "old = \"\"\"\n",
    "Im Moment gibt es einen Prototypen, der technisch einigermassen funktioniert und den ich bereits\n",
    "seit 2018 verwende, um unseren Podcast zu veröffentlichen. Für den Förderzeitraum ginge es darum,\n",
    "diesen Prototypen für alle Anwender benutzbar zu machen. Der Fokus läge dabei vor allem auf Dokumentation\n",
    "und Usability. Zudem wären auch Features interessant, die das Veröffentlichen von Podcasts vereinfachen:\n",
    "\n",
    "* Dokumentation: Tutorials / How-To Guides / Referenzdokumentation\n",
    "* Besseres UX / UI / Design, anpassbar über eigene Templates\n",
    "* Anbindung an Auphonic\n",
    "* Einbinden von Transkripten / externen APIs zum Erzeugen von Transkripten\n",
    "* Import / Exportfunktionalität, um den Umstieg zu erleichtern\n",
    "\"\"\"\n",
    "\n",
    "text = \"\"\"\n",
    "Am wichtigsten sind sicher Dokumentation und Usability. Ich habe aber auch noch ein paar Punkte dazu genommen,\n",
    "die das Veröffentlichen von Podcasts einfacher machen könnten:\n",
    "\n",
    "* Dokumentation: Tutorials / How-To Guides / Referenzdokumentation zur Verwendung von django-cast\n",
    "* Besseres UX / UI / Design, anpassbar über eigene Templates\n",
    "* Schritt für Schritt Anleitung zum Deployment (Lokal, Cloud, Heroku, eigenen Server)\n",
    "* Import / Exportfunktionalität, um den Umstieg von/zu anderen System zu erleichtern\n",
    "* Anbindung an Auphonic\n",
    "* Verwaltung der Audiometadaten wie Kapitelmarken / Tags in den Audiofiles selbst\n",
    "* Einbinden von Transkripten / externen APIs zum Erzeugen von Transkripten\n",
    "\"\"\"\n",
    "print(len(text))"
   ]
  },
  {
   "cell_type": "code",
   "execution_count": null,
   "id": "6558c786-43fd-4d42-a5db-c89e81e360e6",
   "metadata": {},
   "outputs": [],
   "source": []
  }
 ],
 "metadata": {
  "kernelspec": {
   "display_name": "Python 3 (ipykernel)",
   "language": "python",
   "name": "python3"
  },
  "language_info": {
   "codemirror_mode": {
    "name": "ipython",
    "version": 3
   },
   "file_extension": ".py",
   "mimetype": "text/x-python",
   "name": "python",
   "nbconvert_exporter": "python",
   "pygments_lexer": "ipython3",
   "version": "3.10.4"
  }
 },
 "nbformat": 4,
 "nbformat_minor": 5
}
