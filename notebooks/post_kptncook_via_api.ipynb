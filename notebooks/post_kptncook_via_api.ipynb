{
 "cells": [
  {
   "cell_type": "code",
   "execution_count": 28,
   "id": "1987110e-47b0-4731-ba12-5306e367df1a",
   "metadata": {},
   "outputs": [],
   "source": [
    "import json\n",
    "import requests\n",
    "\n",
    "from time import time\n",
    "from pathlib import Path\n",
    "from getpass import getpass"
   ]
  },
  {
   "cell_type": "markdown",
   "id": "37300441-dd33-40c7-9a17-54a710ba4b9f",
   "metadata": {},
   "source": [
    "# Fetch Repices from KptnCook"
   ]
  },
  {
   "cell_type": "code",
   "execution_count": 24,
   "id": "240253b8-7677-4400-abb4-d9d91cfdbe21",
   "metadata": {},
   "outputs": [
    {
     "name": "stdin",
     "output_type": "stream",
     "text": [
      " ···························\n"
     ]
    }
   ],
   "source": [
    "api_key = getpass()\n",
    "time_str = str(time())\n",
    "today_url = f\"https://mobile.kptncook.com/recipes/de/{time_str}?kptnkey={api_key}\""
   ]
  },
  {
   "cell_type": "code",
   "execution_count": 25,
   "id": "366655c9-d546-47cd-bd47-ec70b98c9dca",
   "metadata": {},
   "outputs": [],
   "source": [
    "r = requests.get(today_url)\n",
    "r.raise_for_status()\n",
    "recipes = r.json()"
   ]
  },
  {
   "cell_type": "markdown",
   "id": "4057d44a-b3d5-4abe-adfa-1d7a7cb02312",
   "metadata": {},
   "source": [
    "# Parse Recipes"
   ]
  },
  {
   "cell_type": "code",
   "execution_count": 4,
   "id": "a716d9b9-d25b-4e14-b71c-090051ecc3fc",
   "metadata": {},
   "outputs": [],
   "source": [
    "# recipe_id = \"5d30670b530000b23bc3a251\"\n",
    "# single_receipt_url = f\"https://mobile.kptncook.com/recipes/{recipe_id}/details?kptnkey={api_key}\"\n",
    "# r = requests.get(single_receipt_url)\n",
    "# r.raise_for_status()\n",
    "# recipe = r.json()"
   ]
  },
  {
   "cell_type": "code",
   "execution_count": 5,
   "id": "14421410-eb4c-4d45-a3ef-2e6847d044bc",
   "metadata": {},
   "outputs": [],
   "source": [
    "from typing import Optional, List\n",
    "\n",
    "from pydantic import BaseModel\n",
    "from fastapi_camelcase import CamelModel\n",
    "\n",
    "from mealie.schema.recipe.recipe import Recipe\n",
    "from mealie.schema.recipe.recipe_step import RecipeStep\n",
    "from mealie.schema.recipe.recipe_notes import RecipeNote\n",
    "from mealie.schema.recipe.recipe_nutrition import Nutrition\n",
    "from mealie.schema.recipe.recipe_ingredient import RecipeIngredient"
   ]
  },
  {
   "cell_type": "code",
   "execution_count": 31,
   "id": "44953cf2-2fd0-4546-880c-9149fbad4865",
   "metadata": {},
   "outputs": [],
   "source": [
    "class RecipeWithImage(Recipe):\n",
    "    image_url: str\n",
    "\n",
    "\n",
    "class LocalizedString(BaseModel):\n",
    "    en: Optional[str]\n",
    "    de: Optional[str]\n",
    "    es: Optional[str]\n",
    "    fr: Optional[str]\n",
    "    pt: Optional[str]\n",
    "\n",
    "\n",
    "class KCNutrition(BaseModel):\n",
    "    calories: int\n",
    "    protein: int\n",
    "    fat: int\n",
    "    carbohydrate: int\n",
    "\n",
    "\n",
    "class KCImage(BaseModel):\n",
    "    name: str\n",
    "    type: Optional[str]\n",
    "    url: str\n",
    "\n",
    "\n",
    "class KptnCook(CamelModel):\n",
    "    localized_title: LocalizedString\n",
    "    country: str\n",
    "    author_comment: LocalizedString\n",
    "    preparation_time: int\n",
    "    cooking_time: int\n",
    "    recipe_nutrition: KCNutrition\n",
    "    steps_en: List[str]\n",
    "    steps_de: List[str]\n",
    "    image_list: List[KCImage]\n",
    "    \n",
    "    def get_image_url(self, api_key):\n",
    "        [image] = [i for i in self.image_list if i.type == \"cover\"]\n",
    "        image_url = f\"{image.url}?kptnkey={api_key}\"\n",
    "        return image_url\n",
    "    \n",
    "\n",
    "def transform_keys(raw):\n",
    "    result = {}\n",
    "    mapping = {\"stepsEN\": \"steps_en\", \"stepsDE\": \"steps_de\"}\n",
    "    for k, v in raw.items():\n",
    "        result[mapping.get(k, k)] = raw[k]\n",
    "    return result\n",
    "\n",
    "\n",
    "def kptncook_to_mealie(api: KptnCook):\n",
    "    kwargs = {\n",
    "        \"name\": api.localized_title.de,\n",
    "        \"notes\": [\n",
    "            RecipeNote(title=\"author comment\", text=api.author_comment.de),\n",
    "        ],\n",
    "        \"nutrition\": Nutrition(\n",
    "            calories=api.recipe_nutrition.calories,\n",
    "            protein_content=api.recipe_nutrition.protein,\n",
    "            fat_content=api.recipe_nutrition.fat,\n",
    "            carbohydrate_content=api.recipe_nutrition.carbohydrate,\n",
    "        ),\n",
    "        \"prep_time\": api.preparation_time,\n",
    "        \"cook_time\": api.cooking_time,\n",
    "    }\n",
    "    return Recipe(**kwargs)"
   ]
  },
  {
   "cell_type": "code",
   "execution_count": 33,
   "id": "7ee1d6c9-e3b5-4be3-9892-0203179ed518",
   "metadata": {},
   "outputs": [],
   "source": [
    "recipe_api = KptnCook(**transform_keys(recipes[1]))\n",
    "image_url = recipe_api.get_image_url(api_key)\n",
    "recipe = kptncook_to_mealie(recipe_api)\n",
    "recipe = RecipeWithImage(**recipe.dict(), image_url=image_url)"
   ]
  },
  {
   "cell_type": "code",
   "execution_count": 34,
   "id": "c165b0fe-015e-4c00-9c2b-01203f43462c",
   "metadata": {},
   "outputs": [],
   "source": [
    "with Path(\"recipe.json\").open(\"w\") as f:\n",
    "    f.write(recipe.json())"
   ]
  },
  {
   "cell_type": "markdown",
   "id": "b17b6e67-91f9-4800-8da0-d621af5cfa2e",
   "metadata": {},
   "source": [
    "# Get Token"
   ]
  },
  {
   "cell_type": "code",
   "execution_count": 9,
   "id": "5a92e7b7-d406-46cd-9c71-96f201702c2b",
   "metadata": {
    "tags": []
   },
   "outputs": [
    {
     "name": "stdin",
     "output_type": "stream",
     "text": [
      " ········\n"
     ]
    }
   ],
   "source": [
    "from getpass import getpass\n",
    "\n",
    "token_url = \"http://localhost:9000/api/auth/token\"\n",
    "login_data = {\"username\": \"admin\", \"password\": getpass()}\n",
    "r = requests.post(token_url, data=login_data)\n",
    "r.raise_for_status()\n",
    "access_token = r.json()[\"access_token\"]\n",
    "headers={\"authorization\": f\"Bearer {access_token}\"}"
   ]
  },
  {
   "cell_type": "markdown",
   "id": "f15ca557-6f88-4c52-81fb-20b25e72d54a",
   "metadata": {},
   "source": [
    "# Build Client"
   ]
  },
  {
   "cell_type": "code",
   "execution_count": 10,
   "id": "5f5a11ae-d850-443d-98f1-b1a7e6394e67",
   "metadata": {},
   "outputs": [],
   "source": [
    "class ClientOld:\n",
    "    def __init__(self, base_url, headers):\n",
    "        self.base_url = base_url\n",
    "        self.headers = headers\n",
    "        \n",
    "    def to_url(self, path):\n",
    "        return f\"{self.base_url}{path}\"\n",
    "            \n",
    "    def get(self, path, **kwargs):\n",
    "        kwargs[\"headers\"] = self.headers\n",
    "        return requests.get(self.to_url(path), **kwargs)\n",
    "\n",
    "    def post(self, path, **kwargs):\n",
    "        kwargs[\"headers\"] = self.headers\n",
    "        return requests.post(self.to_url(path), **kwargs)\n",
    "\n",
    "    def put(self, path, **kwargs):\n",
    "        kwargs[\"headers\"] = self.headers\n",
    "        return requests.put(self.to_url(path), **kwargs)"
   ]
  },
  {
   "cell_type": "code",
   "execution_count": 11,
   "id": "3a406256-cd17-4126-9038-ae27d767480b",
   "metadata": {},
   "outputs": [],
   "source": [
    "class Client:\n",
    "    \"\"\"\n",
    "    Proxy for requests, joining base_url with path and\n",
    "    providing authentication headers automatically.\n",
    "    \"\"\"\n",
    "    def __init__(self, base_url, headers):\n",
    "        self.base_url = base_url\n",
    "        self.headers = headers\n",
    "\n",
    "    def to_url(self, path):\n",
    "        return f\"{self.base_url}{path}\"\n",
    "    \n",
    "    def __getattr__(self, name):\n",
    "        def inner(path, **kwargs):\n",
    "            url = self.to_url(path)\n",
    "            kwargs[\"headers\"] = self.headers\n",
    "            return getattr(requests, name)(url, **kwargs)\n",
    "        return inner"
   ]
  },
  {
   "cell_type": "code",
   "execution_count": 12,
   "id": "315dcb83-619f-4b42-83cc-d58747fe85b0",
   "metadata": {},
   "outputs": [],
   "source": [
    "client = Client(\"http://localhost:9000/api\", headers)"
   ]
  },
  {
   "cell_type": "code",
   "execution_count": 13,
   "id": "a242288e-ae3e-4792-8c30-9db02f94e1d7",
   "metadata": {},
   "outputs": [
    {
     "name": "stdout",
     "output_type": "stream",
     "text": [
      "899979e8-f240-4d53-8ed3-eaeac21ecd53 71aae446-1aa5-4db7-9782-4021692cd0ce\n"
     ]
    }
   ],
   "source": [
    "self_path = \"/users/self\"\n",
    "r = client.get(self_path)\n",
    "r.raise_for_status()\n",
    "self_data = r.json()\n",
    "user_id, group_id = self_data[\"id\"], self_data[\"groupId\"]\n",
    "print(user_id, group_id)"
   ]
  },
  {
   "cell_type": "markdown",
   "id": "1e112c3f-79b4-4c42-b9e6-84e02be567d1",
   "metadata": {},
   "source": [
    "# Post Recipe"
   ]
  },
  {
   "cell_type": "code",
   "execution_count": 14,
   "id": "70e0a761-29c7-4fbd-9d32-84ac1a4065fe",
   "metadata": {},
   "outputs": [],
   "source": [
    "import json"
   ]
  },
  {
   "cell_type": "code",
   "execution_count": 15,
   "id": "dd1bb8a4-ea36-4f75-9aab-a87b60eeaace",
   "metadata": {},
   "outputs": [
    {
     "name": "stdout",
     "output_type": "stream",
     "text": [
      "slug:  high-protein-herzhaftes-waffelsandwich-mit-thunfisch-creme\n"
     ]
    }
   ],
   "source": [
    "r = client.post(\"/recipes\", data=recipe.json())\n",
    "r.raise_for_status()\n",
    "slug = r.json()\n",
    "print(\"slug: \", slug)"
   ]
  },
  {
   "cell_type": "code",
   "execution_count": 16,
   "id": "4312bd9e-cd63-4b1f-af59-bcea6537217f",
   "metadata": {},
   "outputs": [
    {
     "data": {
      "text/plain": [
       "'{\"id\": null, \"user_id\": \"642eb639-b76f-46fb-8ace-649c3766615e\", \"group_id\": \"dd9c980b-154c-4f59-882f-f15a146b5ab7\", \"name\": \"High Protein Herzhaftes Waffelsandwich mit Thunfisch-Creme\", \"slug\": \"high-protein-herzhaftes-waffelsandwich-mit-thunfisch-creme\", \"image\": null, \"recipe_yield\": null, \"total_time\": null, \"prep_time\": \"30\", \"cook_time\": \"0\", \"perform_time\": null, \"description\": \"\", \"recipe_category\": [], \"tags\": [], \"tools\": [], \"rating\": null, \"org_url\": null, \"recipe_ingredient\": [], \"date_added\": null, \"date_updated\": null, \"recipe_instructions\": [], \"nutrition\": {\"calories\": \"477\", \"fat_content\": \"17\", \"protein_content\": \"53\", \"carbohydrate_content\": \"25\", \"fiber_content\": null, \"sodium_content\": null, \"sugar_content\": null}, \"settings\": {\"public\": false, \"show_nutrition\": false, \"show_assets\": false, \"landscape_view\": false, \"disable_comments\": true, \"disable_amount\": true, \"locked\": false}, \"assets\": [], \"notes\": [{\"title\": \"author comment\", \"text\": \"Protein-Geheimwaffe(l)!\"}], \"extras\": {}, \"comments\": []}'"
      ]
     },
     "execution_count": 16,
     "metadata": {},
     "output_type": "execute_result"
    }
   ],
   "source": [
    "recipe.json()"
   ]
  },
  {
   "cell_type": "markdown",
   "id": "740cd9eb-dd7a-4861-bf15-656a8ccd4685",
   "metadata": {},
   "source": [
    "# Add Image"
   ]
  },
  {
   "cell_type": "code",
   "execution_count": 17,
   "id": "4c12949b-54a1-4026-906a-d0015d916395",
   "metadata": {},
   "outputs": [],
   "source": [
    "image_url = recipe_api.get_image_url(api_key)\n",
    "json_image_url = json.dumps({\"url\": image_url})\n",
    "scrape_image_path = f\"/recipes/{slug}/image\"\n",
    "r = client.post(scrape_image_path, data=json_image_url)\n",
    "r.raise_for_status()"
   ]
  },
  {
   "cell_type": "markdown",
   "id": "0cc4cee7-4385-45a2-9a5c-e306421087ab",
   "metadata": {},
   "source": [
    "# Update Recipe Attributes"
   ]
  },
  {
   "cell_type": "code",
   "execution_count": 18,
   "id": "eca23e58-4dcc-4ba6-8561-c92d82a11f49",
   "metadata": {},
   "outputs": [],
   "source": [
    "recipe_detail_path = f\"/recipes/{slug}\""
   ]
  },
  {
   "cell_type": "markdown",
   "id": "2291c788-0fee-4378-9da0-69f419a78f9e",
   "metadata": {},
   "source": [
    "## Get Recipe Details\n",
    "\n",
    "Need to fetch user and group id to be able to update receipt."
   ]
  },
  {
   "cell_type": "code",
   "execution_count": 19,
   "id": "2a821eb7-ec4c-48bd-a929-a12727542343",
   "metadata": {},
   "outputs": [],
   "source": [
    "self_path = \"/users/self\"\n",
    "r = client.get(self_path)\n",
    "r.raise_for_status()\n",
    "self_data = r.json()\n",
    "recipe.user_id, recipe.group_id = self_data[\"id\"], self_data[\"groupId\"]"
   ]
  },
  {
   "cell_type": "markdown",
   "id": "59e89787-5021-4379-9ed5-9b240de8feea",
   "metadata": {},
   "source": [
    "## Get Recipe ID"
   ]
  },
  {
   "cell_type": "code",
   "execution_count": 20,
   "id": "2dc3361d-be42-4624-b081-44b45cea1dde",
   "metadata": {},
   "outputs": [],
   "source": [
    "r = client.get(recipe_detail_path)\n",
    "r.raise_for_status()\n",
    "recipe_details = r.json()\n",
    "recipe.id, recipe.user_id, recipe.group_id = recipe_details[\"id\"], recipe_details[\"userId\"], recipe_details[\"groupId\"]"
   ]
  },
  {
   "cell_type": "markdown",
   "id": "6b9ca99d-3e54-4aab-afa0-e0425bc3fdb8",
   "metadata": {},
   "source": [
    "## Update Recipe"
   ]
  },
  {
   "cell_type": "code",
   "execution_count": 22,
   "id": "a290d246-dee4-4674-89a3-6a14f16a1fc1",
   "metadata": {},
   "outputs": [],
   "source": [
    "recipe_detail_path = f\"/recipes/{slug}\"\n",
    "r = client.put(recipe_detail_path, data=recipe.json())\n",
    "r.raise_for_status()"
   ]
  }
 ],
 "metadata": {
  "kernelspec": {
   "display_name": "Python 3.10.2 ('mealie')",
   "language": "python",
   "name": "python3102jvsc74a57bd055dfb723f91d1e086a0fd0b60c24856523fc3bc1c3d6a3f24e98007dab904a9b"
  },
  "language_info": {
   "codemirror_mode": {
    "name": "ipython",
    "version": 3
   },
   "file_extension": ".py",
   "mimetype": "text/x-python",
   "name": "python",
   "nbconvert_exporter": "python",
   "pygments_lexer": "ipython3",
   "version": "3.10.3"
  }
 },
 "nbformat": 4,
 "nbformat_minor": 5
}
